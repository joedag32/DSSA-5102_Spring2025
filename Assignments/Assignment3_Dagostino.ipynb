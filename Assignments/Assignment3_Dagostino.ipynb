{
 "cells": [
  {
   "cell_type": "markdown",
   "id": "4cdc446b",
   "metadata": {},
   "source": [
    "# Assignment #3 - Data Gathering and Warehousing - DSSA-5102\n",
    "\n",
    "Instructor: Melissa Laurino</br>\n",
    "Spring 2025</br>\n",
    "\n",
    "Name: Joe D'Agostino\n",
    "</br>\n",
    "Date: 2/8/25\n",
    "<br>\n",
    "<br>\n",
    "We introduced in Assignment #2 the imporatance of data cleaning and why accurrate data is needed when making informed decisions in our fields. In our assignment, we were faced with making the decision whether or not to omit data we may not know too much about yet. \n",
    "<br>\n",
    "<b>Metadata</b> is data about the data. Metadata can be structural, administrative, statistical and much more.\n",
    "<br>\n",
    "When building your data warehouses it is important to have data cleaning protocols established for your organization BEFORE you start to clean the data.<br><br>\n",
    "Your task for Assignment #3 is to:<br>\n",
    "<b>--</b>Create a Github repository for this class. It can be public or private. If you choose to make it private, add the instructor as a collaborator. @MelissaLaurino<br>\n",
    "<b>---</b>It is suggested to create your repository using the Git terminal commands. See Blackboard for step by step instructions.\n",
    "<b>--</b>Staying Connected -> Visit the Discussion Board and share your username with classmates. Follow your classmates on Github.<br>\n",
    "<b>--</b>Upload Assignment #1, #2, and your clean data (If you created a physical clean copy of it, otherwise the link is fine) to your new/established Github repository. For every repository you create, you'll automatically have the option to include a README.md (Meta data) file. <br>\n",
    "<b>--</b>Create a descriptive and very detailed README.md file for your dataset you have chosen to continue with. Insert a link to your Github README.md repository file in the comments section on Blackboard, or attach this assignment for submission.\n"
   ]
  },
  {
   "cell_type": "markdown",
   "id": "71044053",
   "metadata": {},
   "source": [
    "Include all of the following information on your README.md file for full credit. Be specific!:<br>\n",
    "More research may be needed on your dataset, besides general exploration, to answer the different types of metadata questions. If you are exploring your data at a greater depth to answer these questions, you can explore on this new document or continue working in Assignment #2.<br>\n",
    "(Refer to the Powerpoint notes on Blackboard for examples and guidance.)"
   ]
  },
  {
   "cell_type": "markdown",
   "id": "6c6444eb",
   "metadata": {},
   "source": [
    "### USA Olympic Athletes\n",
    "![Olympic rings](https://upload.wikimedia.org/wikipedia/commons/thumb/5/5c/Olympic_rings_without_rims.svg/400px-Olympic_rings_without_rims.svg.png) \n",
    "\n",
    "The USA Olympic Athletes project is my Data Gathering & Warehousing for the Spring 2025 semester. I hope to expand on it's scope as we learn more about our upcoming assignments."
   ]
  },
  {
   "cell_type": "markdown",
   "id": "a3948dda",
   "metadata": {},
   "source": [
    "#### Where is the data from? ​ <br>\n",
    "The [120 years of Olympic history: athletes and results - (https://www.kaggle.com/datasets/heesoo37/120-years-of-olympic-history-athletes-and-results)] was shared on kaggle by user [rgriffin (https://github.com/rgriff23)] in 2018. I accessed the data on 2/8/2025.\n",
    "\n",
    "#### How was it collected?​ <br>\n",
    "rgriffin scraped the data from www.sports-reference.com in May 2018.\n",
    "\n",
    "#### How was it extracted?​ <br>\n",
    "The R code used to [scrape the data - (https://github.com/rgriff23/Olympic_history/blob/master/R/olympics%20scrape.R)] is available. It was a one-time extraction with no updates.\n",
    "\n",
    "I downloaded the .csv data file from kaggle and converted it to a databale using Python.\n",
    "\n",
    "#### What program was used to clean the data?​ <br>\n",
    "The data was cleaned using R. They linked to the script they used to [wrangle the data -(https://github.com/rgriff23/Olympic_history/blob/master/R/olympics%20wrangle.R)].\n",
    "\n",
    "I used Python to then clean the data a bit further.\n",
    "\n",
    "#### How was the data cleaned or transformed? Be specific.​ <br>\n",
    "I used Python to clean and transform the Olympic history dataset. I performed the following:\n",
    "- filtered to only contain rows where the NOC (Nantional Olympic Committee) is equal to USA\n",
    "- converted all coluimn names with lowercase with no spaces or special characters\n",
    "- removed 249 duplicate rows if they were identical\n",
    "- removed leading and trailing and whitespace characters from the name and event columns\n",
    "- removed the noc column as it was no longer necessary since only USA results remain\n",
    "- checked for outliers in the age column\n",
    "\n",
    "#### What are the units of the numeric data?​<br>\n",
    "- id - a unique integer for each athlete\n",
    "- age - measured in years\n",
    "- height - centimeters\n",
    "- weight - kilograms\n",
    "- year - 4 digit year\n",
    "\n",
    "#### What were the formulas used in column creation?​<br>\n",
    "No new columns were created by me for this dataset. \n",
    "\n",
    "#### How is the data validated to ensure consistency?​<br>\n",
    "The Olympic games go back 120+ years, so I'd imagine that the data has been validated in numerous ways. Probably paper trails and in more modern games with digital information. I spot checked some numerical columns for the max and min range to see if there were any obvious outliers. If I were to append data I'd make sure the the gender, season, sport, event and medal fields were collected with some so of digial validation to ensure consistant data entry.\n",
    "\n",
    "#### What are the definitions for the column names? Include all columns in your dataset.​<br>\n",
    "- id - a unique integer for each athlete\n",
    "- name - the athlete's name\n",
    "- sex - gender\n",
    "- age - year\n",
    "- height - centimeters\n",
    "- weight - kilograms\n",
    "- team - sub USA olympic team or organization\n",
    "- year - the year of the game\n",
    "- season - Summer or Winter\n",
    "- city - host city\n",
    "- sport - the sport\n",
    "- event - the event\n",
    "- medal - Gold, Silver, Bronze or NA\n",
    "\n",
    "#### If there are set variable options in your dataset, what are thier definitions? ​<br>\n",
    "- sex - M or F\n",
    "- season - Summer or Winter\n",
    "- medal - Gold, Silver, Bronze, or NA\n",
    "\n",
    "#### What are the regulations to using the data?<br>\n",
    "[CCO: Public Domain - (https://creativecommons.org/publicdomain/zero/1.0/)]\n",
    "\n",
    "If you are referencing sources, be sure to include citations/references as needed."
   ]
  },
  {
   "cell_type": "markdown",
   "id": "4ca19ef3",
   "metadata": {},
   "source": [
    "#### Related links\n",
    "- Link to [Github account - (https://github.com/joedag32/DSSA-5102_Spring2025)]<b><br>\n",
    "- Link to [README.md for our class repository - (https://github.com/joedag32/DSSA-5102_Spring2025/blob/main/README.md)]<b><br>"
   ]
  },
  {
   "cell_type": "code",
   "execution_count": null,
   "id": "c9126cac",
   "metadata": {},
   "outputs": [],
   "source": []
  }
 ],
 "metadata": {
  "kernelspec": {
   "display_name": "Python 3 (ipykernel)",
   "language": "python",
   "name": "python3"
  },
  "language_info": {
   "codemirror_mode": {
    "name": "ipython",
    "version": 3
   },
   "file_extension": ".py",
   "mimetype": "text/x-python",
   "name": "python",
   "nbconvert_exporter": "python",
   "pygments_lexer": "ipython3",
   "version": "3.9.1"
  }
 },
 "nbformat": 4,
 "nbformat_minor": 5
}
