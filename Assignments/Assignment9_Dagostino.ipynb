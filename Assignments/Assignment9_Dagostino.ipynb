{
 "cells": [
  {
   "cell_type": "markdown",
   "id": "f369c6ca",
   "metadata": {},
   "source": [
    "# Assignment #9 - Data Gathering and Warehousing - DSSA-5102\n",
    "\n",
    "Instructor: Melissa Laurino</br>\n",
    "Spring 2025</br>\n",
    "\n",
    "Name: Joe D'Agostino\n",
    "</br>\n",
    "Date: 4/10/25\n",
    "<br>\n",
    "<br>\n",
    "**At this time in the semester:** <br>\n",
    "- We have explored a dataset. <br>\n",
    "- We have cleaned our dataset. <br>\n",
    "- We created a Github account with a repository for this class and included a metadata read me file about our data. <br>\n",
    "- We introduced general SQL syntax, queries, and applications in Python.<br>\n",
    "- Created our own databases from scratch using MySQL Workbench and Python with SQLAlchemy on our local server and locally on our machine.\n",
    "- Populated our databases with the data we cleaned at the start of the semester.\n",
    "<br>\n",
    "\n",
    "At this point, we have discussed all major statements used with SQL, but the possibilities are endless when it comes to data! Below we will explore some miscellaneous statements and tools that may be useful with your database.<br>\n",
    "\n",
    "<br>\n",
    "\n",
    "Read Chapter 7 & 10 in Getting Started with SQL by Thomas Nield available on Blackboard. <br>\n",
    "A quick reference for SQL commands: https://www.w3schools.com/sql/default.asp <br>\n",
    "\n",
    "Review the powerpoint and other readings specified on Blackboard in the Discussion Board.<br>\n",
    "\n",
    "In the event your database does not meet the requirements below to answer the question, please use the database provided in Assignment #4 and #5. Remember to credit your data source, especially when posting your assignments to Github.<br>\n",
    "\n",
    "Feel free to use your preferred library and method for the exploration below. Now that all of our data is loaded onto the MySQL Workbench server, you can even take the assignment a step further and complete it all within SQL without Jupyter Notebook!<br>\n",
    "\n",
    "Follow the instructions below to complete the assignment. Be sure to comment **all** code and answer **all** questions in markdown for full credit. Please submit this assignment with a link to it posted to your Github.<br>\n",
    "\n",
    "**Data origin:** I'm using the usa_olympic_athletes_7_2 MySQL database I created in Assignment 7 using my [USA Olympic Athletes](https://github.com/joedag32/DSSA-5102_Spring2025/blob/main/README.md) dataset."
   ]
  },
  {
   "cell_type": "markdown",
   "id": "52c97b06-49fb-4f6c-ac68-32f9c9149751",
   "metadata": {},
   "source": [
    "### All below queries ran through MySQL Workbench"
   ]
  },
  {
   "cell_type": "markdown",
   "id": "40c58ed6",
   "metadata": {},
   "source": [
    "#### CASE Statements\n",
    "Case statements are similar to the if-then-else statements in programming. The data that meets the case statements in the database will be returned. You start a CASE statement with the word CASE and conclude it with an END. Between those keywords, you specify each condition with a WHEN [condition] THEN [value], where the condition and the values are specified by you.\n",
    "\n",
    "Nield, Thomas. Getting Started with SQL (p. 71). O'Reilly Media. Kindle Edition. <br>\n",
    "<br>\n",
    "Write your question you are answering with your data query. <br>\n",
    "<br>\n",
    "**Example Question:** What age group are athletes in? 20s, 30s, etc.?\n",
    "<br>\n",
    "**What tables are we joining? (If any):** athlete"
   ]
  },
  {
   "cell_type": "code",
   "execution_count": null,
   "id": "1a4ca6e9",
   "metadata": {},
   "outputs": [],
   "source": [
    "SELECT name,\n",
    "\tCASE\n",
    "\t\tWHEN age > 40 THEN 'Over 40'\n",
    "        WHEN age >= 30 THEN 'In their 30\\'s'\n",
    "        WHEN age >= 20 THEN 'In their 20\\'s'\n",
    "\t\tELSE 'Teenager'\n",
    "\tEND AS age_group\n",
    "FROM athlete\n",
    "GROUP BY name, age_group;\n"
   ]
  },
  {
   "cell_type": "markdown",
   "id": "db5bb8cc",
   "metadata": {},
   "source": [
    "**CASE STATEMENT**\n",
    "<br>\n",
    "Write a second CASE statement!\n",
    "\n",
    "Write your question you are answering with your data query. <br>\n",
    "<br>\n",
    "**Question:** What endorsement opportunities does an athlete probably get based on what medal they earned\n",
    "<br>\n",
    "**What tables are we joining? (If any):** athlete and medal"
   ]
  },
  {
   "cell_type": "code",
   "execution_count": null,
   "id": "aaeb520d",
   "metadata": {},
   "outputs": [],
   "source": [
    "SELECT name, year,\n",
    "\tCASE\n",
    "\t\tWHEN medal.medal_name = 'Gold' THEN 'Wheaties box'\n",
    "        WHEN medal.medal_name = 'Silver' THEN 'TV commercial'\n",
    "\t\tELSE 'Local library appearance'\n",
    "\tEND AS endorsement\n",
    "FROM medal\n",
    "INNER JOIN athlete ON medal.medal_id = athlete.medal_id\n",
    "WHERE medal.medal_name != '0'\n",
    "ORDER BY year DESC;\n"
   ]
  },
  {
   "cell_type": "markdown",
   "id": "ccbfb111",
   "metadata": {},
   "source": [
    "**CASE STATEMENT**\n",
    "<br>\n",
    "Write a third CASE statement!\n",
    "\n",
    "Write your question you are answering with your data query. <br>\n",
    "<br>\n",
    "**Question:** \n",
    "<br>\n",
    "**What tables are we joining? (If any):** "
   ]
  },
  {
   "cell_type": "code",
   "execution_count": null,
   "id": "f43042fe",
   "metadata": {},
   "outputs": [],
   "source": [
    "\n",
    "\n",
    "\n"
   ]
  },
  {
   "cell_type": "markdown",
   "id": "00dfccbc",
   "metadata": {},
   "source": [
    "**NULL**\n",
    "<br>\n",
    "As with all data, NULL values are fields with no data. Null data can be useful to know with the INSERT INTO statement below.\n",
    "\n",
    "Find the NULL data within your database. Write your question you are answering with your data query. <br>\n",
    "<br>\n",
    "**Question:** Get all the rows where the weight or height value is NULL\n",
    "<br>\n",
    "**What tables are we joining? (If any):** athlete"
   ]
  },
  {
   "cell_type": "code",
   "execution_count": null,
   "id": "ff36e23c",
   "metadata": {},
   "outputs": [],
   "source": [
    "SELECT *\n",
    "FROM athlete \n",
    "WHERE weight IS NULL \n",
    "OR height IS NULL;\n"
   ]
  },
  {
   "cell_type": "markdown",
   "id": "84bb5a36-f662-41f0-be47-0af7d386d986",
   "metadata": {},
   "source": [
    "I don't have any NULL values in either of those columns due to clean up, but that would return rows if they were there."
   ]
  },
  {
   "cell_type": "markdown",
   "id": "501a12a4",
   "metadata": {},
   "source": [
    "**INSERT INTO**\n",
    "<br>\n",
    "You can insert new records into a table as needed using the INSERT INTO statement. If you choose to populate a table with certain records and not others, the rest of the fields will remain empty/NULL.\n",
    "<br>\n",
    "For INSERT INTO, we are not querying the database, instead we are ADDING to it. We do not need to use dbGetQuery(), but instead, dbExecute()!\n",
    "<br><br>\n",
    "**Objective:** Insert Olympic entries for me and Cliff into the athlete table (I'm completely guessing on \n",
    "<br>\n",
    "**What table(s) are we adding a record to?** athlete"
   ]
  },
  {
   "cell_type": "code",
   "execution_count": 1,
   "id": "2f64f50d",
   "metadata": {
    "scrolled": true
   },
   "outputs": [
    {
     "ename": "SyntaxError",
     "evalue": "invalid syntax (1157326148.py, line 1)",
     "output_type": "error",
     "traceback": [
      "\u001b[0;36m  Cell \u001b[0;32mIn[1], line 1\u001b[0;36m\u001b[0m\n\u001b[0;31m    -- Joe did not medal in Tennis and Stacey got the gold in featherweight weightlifting\u001b[0m\n\u001b[0m           ^\u001b[0m\n\u001b[0;31mSyntaxError\u001b[0m\u001b[0;31m:\u001b[0m invalid syntax\n"
     ]
    }
   ],
   "source": [
    "-- Joe did not medal in Tennis and Stacey got the gold in featherweight weightlifting\n",
    "INSERT INTO athlete(name, sex, age, height, weight, team, year, season, city, sport_id, event_id, medal_id) \n",
    "VALUES \n",
    "  ('Joe', 'M', 47.0, 177.8, 83.9, 'United States', 2024, 'Summer', 'Paris', 26, 65, 1), \n",
    "  ('Stacey', 'F', 39.0, 147.3, 47.6, 'United States', 2024, 'Summer', 'Paris', 15, 617, 4);\n"
   ]
  },
  {
   "cell_type": "markdown",
   "id": "eb27ad86",
   "metadata": {},
   "source": [
    "**MIN() and MAX()**\n",
    "<br>\n",
    "You can use these statements alone or in combination with the CASE statemts above.<br>\n",
    "The IN operator in a WHERE clause lets you filter for multiple values at once. You can also exclude certain values by using the NOT IN operator.\n",
    "<br>\n",
    "\n",
    "**Question:** What were the heaviest and lightest athlete weights grouped by sport?\n",
    "<br>\n",
    "**What table(s) are we joining? (If any)** sport and athlete"
   ]
  },
  {
   "cell_type": "code",
   "execution_count": null,
   "id": "f1a97c9d",
   "metadata": {},
   "outputs": [],
   "source": [
    "SELECT MAX(weight) AS heaviest, MIN(weight) AS lightest, sport_name\n",
    "FROM sport\n",
    "INNER JOIN athlete ON sport.sport_id = athlete.sport_id\n",
    "WHERE weight > 0 -- check to make sure a weight was recorded\n",
    "GROUP BY sport_name;\n"
   ]
  },
  {
   "cell_type": "markdown",
   "id": "ceb2cc17",
   "metadata": {},
   "source": [
    "Combine CASE statement with Min() and Max() for a more detailed query of your data:\n",
    "<br><br>\n",
    "**Question:** What is tallest male and female US Olympians by year.\n",
    "<br>\n",
    "**What table(s) are we joining?** athlete"
   ]
  },
  {
   "cell_type": "code",
   "execution_count": null,
   "id": "581f5376",
   "metadata": {},
   "outputs": [],
   "source": [
    "SELECT year,\n",
    "\tMAX(CASE WHEN sex = 'F' THEN height ELSE NULL END) as max_female_height,\n",
    "    MAX(CASE WHEN sex = 'M' THEN height ELSE NULL END) as max_male_height\n",
    "FROM athlete\n",
    "GROUP BY year\n",
    "ORDER BY year DESC;\n"
   ]
  },
  {
   "cell_type": "markdown",
   "id": "8b3de393",
   "metadata": {},
   "source": [
    "**MIN() and MAX()** <br>\n",
    "AVG() will take the average of a numeric field.\n",
    "\n",
    "**Question:** What's the average female and male athlete age from 1900 to 2000?\n",
    "<br>\n",
    "**What table(s) are we joining?** athlete"
   ]
  },
  {
   "cell_type": "code",
   "execution_count": null,
   "id": "f1e63c19",
   "metadata": {},
   "outputs": [],
   "source": [
    "SELECT year,\n",
    "\tAVG(CASE WHEN sex = 'F' THEN age ELSE NULL END) as avg_female_age,\n",
    "    AVG(CASE WHEN sex = 'M' THEN age ELSE NULL END) as avg_male_age\n",
    "FROM athlete\n",
    "WHERE year BETWEEN 1900 AND 2000\n",
    "GROUP BY year\n",
    "ORDER BY year DESC;\n"
   ]
  },
  {
   "cell_type": "markdown",
   "id": "697a553a",
   "metadata": {},
   "source": [
    "Although this query gives us a quick answer, as a stand alone data frame, it is not that useful. We can add it to our longer query above. <br><br>\n",
    "**Aliases (AS)**\n",
    "<br>\n",
    "You can abbreviate your code to make it more visually appealing...or more confusing? :) <br>\n",
    "<br>\n",
    "Examples:<br>\n",
    "FROM table_name t<br>\n",
    "FROM table_name AS t<br>\n",
    "<br>\n",
    "**Objective:** Use abbreviations or aliases for all tables for the same code you wrote above (If you have not done so already). Be sure to obtain the same result set."
   ]
  },
  {
   "cell_type": "code",
   "execution_count": null,
   "id": "366c4280",
   "metadata": {},
   "outputs": [],
   "source": [
    "-- using abbrevations a for the athlete table and m for the medal table\n",
    "SELECT a.name, a.year,\n",
    "\tCASE\n",
    "\t\tWHEN m.medal_name = 'Gold' THEN 'Wheaties box'\n",
    "        WHEN m.medal_name = 'Silver' THEN 'TV commercial'\n",
    "\t\tELSE 'Local library appearance'\n",
    "\tEND AS endorsement\n",
    "FROM medal as m\n",
    "INNER JOIN athlete AS a ON m.medal_id = a.medal_id\n",
    "WHERE m.medal_name != '0'\n",
    "ORDER BY year DESC;\n"
   ]
  },
  {
   "cell_type": "markdown",
   "id": "b5e0cb9e-dc20-46eb-b3c5-34cbaebc90a8",
   "metadata": {},
   "source": [
    "I seem to not typically use abbrevations for tables, as I really hope I gave the tables clean names, but I'm sure working with larger datasets or databases I didn't create it would sure make things easier!"
   ]
  },
  {
   "cell_type": "markdown",
   "id": "5c91b2e7",
   "metadata": {},
   "source": [
    "Now we are starting to create multiple new fields that we can save any time as a .csv if needed to access later. Save your result set as a .csv:"
   ]
  },
  {
   "cell_type": "code",
   "execution_count": 22,
   "id": "863fb822",
   "metadata": {},
   "outputs": [],
   "source": [
    "# Save result set as .csv file:\n",
    "\n"
   ]
  },
  {
   "cell_type": "markdown",
   "id": "4f772ff9",
   "metadata": {},
   "source": [
    "**DELETE** ~Caution!~\n",
    "<br>\n",
    "You can delete all records from specific tables or set a criteria to delete certain values or NULL values without deleting the table itself. It is okay if you do not execute the code if you have completed all data cleaning steps earlier in the semester.<br>\n",
    "<br>\n",
    "If you created autoincrement IDs for any of your data, it is recommended to use TRUNCATE TABLE instead, used the same way. The ID's will automatically reset if needed.<br>\n",
    "<br>\n",
    "**Objective:** Delete the records created for Joe and Stacey from the athlete table from this assignment.\n",
    "<br>\n",
    "**What table(s) are we deleting records from?** athlete"
   ]
  },
  {
   "cell_type": "code",
   "execution_count": 24,
   "id": "5c796996",
   "metadata": {},
   "outputs": [],
   "source": [
    "-- Our Olympic careers were short but most enjoyable\n",
    "DELETE FROM athlete\n",
    "WHERE athlete_id IN (37209, 37210);\n"
   ]
  },
  {
   "cell_type": "markdown",
   "id": "e7f7cf8e",
   "metadata": {},
   "source": [
    "We can also delete entire tables in MySQL workbench by manually right clicking on the table and DROP TABLE. <br>\n",
    "MySQL Workbench will prompt you to review the SQL syntax before dropping the table.<br>\n",
    "The syntax is simple:<br>\n",
    "DROP TABLE table_name<br>"
   ]
  },
  {
   "cell_type": "markdown",
   "id": "0ff1d169",
   "metadata": {},
   "source": [
    "**STOP**<br>\n",
    "Before you submit, did you comment all your code?<br>\n",
    "Did you answer all of the questions in the markdown cells?<br>\n",
    "Did you rename the file and write your name at the top of the .pynb?<br>\n",
    "Attach the .csv file you created with your Blackboard submission. It is preferred that you submit your Github link instead of the file itself."
   ]
  },
  {
   "cell_type": "code",
   "execution_count": null,
   "id": "8b831e07",
   "metadata": {},
   "outputs": [],
   "source": []
  }
 ],
 "metadata": {
  "kernelspec": {
   "display_name": "Python 3 (ipykernel)",
   "language": "python",
   "name": "python3"
  },
  "language_info": {
   "codemirror_mode": {
    "name": "ipython",
    "version": 3
   },
   "file_extension": ".py",
   "mimetype": "text/x-python",
   "name": "python",
   "nbconvert_exporter": "python",
   "pygments_lexer": "ipython3",
   "version": "3.9.1"
  }
 },
 "nbformat": 4,
 "nbformat_minor": 5
}
